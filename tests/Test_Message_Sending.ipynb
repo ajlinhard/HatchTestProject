{
 "cells": [
  {
   "cell_type": "code",
   "execution_count": 3,
   "id": "4dbe18f3",
   "metadata": {},
   "outputs": [
    {
     "name": "stdout",
     "output_type": "stream",
     "text": [
      "c:\\Users\\dalej\\Documents\\_Coding\\HatchTestProject\n"
     ]
    }
   ],
   "source": [
    "import os\n",
    "import sys\n",
    "import requests\n",
    "\n",
    "project_root = os.path.abspath(os.path.join(os.getcwd(), \"..\"))\n",
    "sys.path.append(project_root)\n",
    "print(project_root)"
   ]
  },
  {
   "cell_type": "code",
   "execution_count": 19,
   "id": "f1cbf355",
   "metadata": {},
   "outputs": [],
   "source": [
    "def print_response(response):\n",
    "    print(response)\n",
    "    print(f\"status_code: {response.status_code}\")\n",
    "    try:\n",
    "        response_json = response.json()\n",
    "        print(f\"message: {response_json}\")\n",
    "        # If you know the exact JSON structure, you can access specific fields\n",
    "        # For example: print(f\"Error message: {error_data['message']}\")\n",
    "    except ValueError:\n",
    "        # If not JSON, print the raw text\n",
    "        print(f\"Error content: {response.text}\")"
   ]
  },
  {
   "cell_type": "markdown",
   "id": "f2169eef",
   "metadata": {},
   "source": [
    "### Basic Call"
   ]
  },
  {
   "cell_type": "code",
   "execution_count": 41,
   "id": "c8f20ad7",
   "metadata": {},
   "outputs": [],
   "source": [
    "data = {\n",
    "    \"from\": \"+18045551234\",\n",
    "    \"to\": \"+12016661234\",\n",
    "    \"type\": \"sms\",\n",
    "    \"messaging_provider_id\": \"message-1\",\n",
    "    \"body\": \"text message\",\n",
    "}"
   ]
  },
  {
   "cell_type": "code",
   "execution_count": 42,
   "id": "c81e98eb",
   "metadata": {},
   "outputs": [
    {
     "name": "stdout",
     "output_type": "stream",
     "text": [
      "<Response [200]>\n",
      "status_code: 200\n",
      "message: {'message': 'Message sent successfully'}\n"
     ]
    }
   ],
   "source": [
    "response = requests.post(\n",
    "    'http://localhost:5000/send',\n",
    "    json=data\n",
    ")\n",
    "print_response(response)"
   ]
  },
  {
   "cell_type": "markdown",
   "id": "75e32b2e",
   "metadata": {},
   "source": [
    "### Second Call"
   ]
  },
  {
   "cell_type": "code",
   "execution_count": 44,
   "id": "2b26c87a",
   "metadata": {},
   "outputs": [
    {
     "name": "stdout",
     "output_type": "stream",
     "text": [
      "<Response [200]>\n",
      "status_code: 200\n",
      "message: {'message': 'Message sent successfully'}\n"
     ]
    }
   ],
   "source": [
    "data = {\n",
    "    \"from\": \"+18045551234\",\n",
    "    \"to\": \"+12016661234\",\n",
    "    \"type\": \"sms\",\n",
    "    \"messaging_provider_id\": \"message-1\",\n",
    "    \"attachments\":  [\"attachment-url\"] ,\n",
    "    \"body\": \"text message\",\n",
    "}\n",
    "response = requests.post(\n",
    "    'http://localhost:5000/send',\n",
    "    json=data\n",
    ")\n",
    "print_response(response)"
   ]
  },
  {
   "cell_type": "code",
   "execution_count": 34,
   "id": "644bc723",
   "metadata": {},
   "outputs": [
    {
     "name": "stdout",
     "output_type": "stream",
     "text": [
      "<Response [200]>\n",
      "status_code: 200\n",
      "message: {'message': 'Message received successfully'}\n"
     ]
    }
   ],
   "source": [
    "data = {\n",
    "    \"from\": \"+12016661234\",\n",
    "    \"to\": \"+18045551234\",\n",
    "    \"type\": \"sms\",\n",
    "    \"messaging_provider_id\": \"message-3\",\n",
    "    \"attachments\":  [\"res.attachment-url\"] ,\n",
    "    \"body\": \"text message response\",\n",
    "}\n",
    "response = requests.post(\n",
    "    'http://localhost:5000/receive',\n",
    "    json=data\n",
    ")\n",
    "print_response(response)"
   ]
  },
  {
   "cell_type": "markdown",
   "id": "572ea121",
   "metadata": {},
   "source": [
    "### Email"
   ]
  },
  {
   "cell_type": "code",
   "execution_count": 35,
   "id": "bec215ef",
   "metadata": {},
   "outputs": [
    {
     "name": "stdout",
     "output_type": "stream",
     "text": [
      "<Response [200]>\n",
      "status_code: 200\n",
      "message: {'message': 'Message sent successfully'}\n"
     ]
    }
   ],
   "source": [
    "data = {\n",
    "    \"from\": \"user@usehatchapp.com\",\n",
    "    \"to\": \"contact@gmail.com\",\n",
    "    \"messaging_provider_id\": \"message-1\",\n",
    "    # \"xillio_id\": \"message-2\",\n",
    "    \"attachments\": [\"test.url.fake.com/test.pdf\"],\n",
    "    \"body\": \"text message with or without html\",\n",
    "}\n",
    "response = requests.post(\n",
    "    'http://localhost:5000/send',\n",
    "    json=data\n",
    ")\n",
    "print_response(response)"
   ]
  },
  {
   "cell_type": "code",
   "execution_count": 45,
   "id": "c0323513",
   "metadata": {},
   "outputs": [
    {
     "name": "stdout",
     "output_type": "stream",
     "text": [
      "<Response [200]>\n",
      "status_code: 200\n",
      "message: {'message': 'Message received successfully'}\n"
     ]
    }
   ],
   "source": [
    "data = {\n",
    "    \"from\": \"contact@gmail.com\",\n",
    "    \"to\": \"user@usehatchapp.com\",\n",
    "    \"xillio_id\": \"message-2\",\n",
    "    \"attachments\": [\"test.url.fake.com/test.pdf\"],\n",
    "    \"body\": \"text message with or without html\",\n",
    "}\n",
    "response = requests.post(\n",
    "    'http://localhost:5000/receive',\n",
    "    json=data\n",
    ")\n",
    "print_response(response)"
   ]
  }
 ],
 "metadata": {
  "kernelspec": {
   "display_name": "HatchProject",
   "language": "python",
   "name": "python3"
  },
  "language_info": {
   "codemirror_mode": {
    "name": "ipython",
    "version": 3
   },
   "file_extension": ".py",
   "mimetype": "text/x-python",
   "name": "python",
   "nbconvert_exporter": "python",
   "pygments_lexer": "ipython3",
   "version": "3.11.11"
  }
 },
 "nbformat": 4,
 "nbformat_minor": 5
}
