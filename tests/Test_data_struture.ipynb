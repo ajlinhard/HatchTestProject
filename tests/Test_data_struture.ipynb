{
 "cells": [
  {
   "cell_type": "markdown",
   "id": "16cea6fc",
   "metadata": {},
   "source": [
    "## Confirm the creation of the database"
   ]
  },
  {
   "cell_type": "code",
   "execution_count": 1,
   "id": "7f4d42f1",
   "metadata": {},
   "outputs": [
    {
     "name": "stdout",
     "output_type": "stream",
     "text": [
      "c:\\Users\\dalej\\Documents\\_Coding\\HatchTestProject\n"
     ]
    }
   ],
   "source": [
    "import os\n",
    "import sys\n",
    "\n",
    "project_root = os.path.abspath(os.path.join(os.getcwd(), \"..\"))\n",
    "sys.path.append(project_root)\n",
    "print(project_root)"
   ]
  },
  {
   "cell_type": "code",
   "execution_count": 2,
   "id": "7fa6d682",
   "metadata": {},
   "outputs": [],
   "source": [
    "from sqlalchemy import create_engine\n",
    "from src.sys_configs import Configs\n",
    "from sqlalchemy.orm import sessionmaker\n",
    "\n",
    "# Basic trusted connection format\n",
    "# engine = create_engine(Configs.DATABASE_URL)\n",
    "\n"
   ]
  },
  {
   "cell_type": "code",
   "execution_count": 3,
   "id": "eddbfc2f",
   "metadata": {},
   "outputs": [],
   "source": [
    "database = \"HatchMsg\"\n",
    "driver = \"ODBC Driver 17 for SQL Server\"\n",
    "server = 'localhost\\\\SQLEXPRESS' \n",
    "\n",
    "conn_str = f\"mssql://@{server}/{database}?driver={driver}&trusted_connection=yes\"\n",
    "engine = create_engine(conn_str)"
   ]
  },
  {
   "cell_type": "code",
   "execution_count": 4,
   "id": "7f05054e",
   "metadata": {},
   "outputs": [],
   "source": [
    "connection = engine.connect()\n",
    "SessionLocal = sessionmaker(autoflush=True, bind=engine)\n",
    "session = SessionLocal()"
   ]
  },
  {
   "cell_type": "code",
   "execution_count": 5,
   "id": "529e5137",
   "metadata": {},
   "outputs": [],
   "source": [
    "from src.Backend.Conversations import Base\n",
    "\n",
    "Base.metadata.create_all(engine)"
   ]
  },
  {
   "cell_type": "code",
   "execution_count": 6,
   "id": "72355136",
   "metadata": {},
   "outputs": [
    {
     "name": "stdout",
     "output_type": "stream",
     "text": [
      "New conversation created: ID=1, UUID=e9f715c4-75f8-497a-9ff7-c51e406435bc\n"
     ]
    }
   ],
   "source": [
    "from src.Backend.Conversations import ConversationLog\n",
    "\n",
    "new_conversation = ConversationLog(\n",
    "    client_id=1,  # Assuming client with ID 1 exists\n",
    "    title=\"Initial meeting with client\"\n",
    ")\n",
    "session.add(new_conversation)\n",
    "session.commit()\n",
    "\n",
    "# Print the newly created conversation details\n",
    "print(f\"New conversation created: ID={new_conversation.conv_id}, UUID={new_conversation.uuid}\")\n"
   ]
  },
  {
   "cell_type": "code",
   "execution_count": 7,
   "id": "de9c5087",
   "metadata": {},
   "outputs": [
    {
     "name": "stdout",
     "output_type": "stream",
     "text": [
      "1\n",
      "e9f715c4-75f8-497a-9ff7-c51e406435bc\n",
      "Initial meeting with client\n",
      "2025-05-17 16:29:00.760000\n"
     ]
    }
   ],
   "source": [
    "print(new_conversation.conv_id)\n",
    "print(new_conversation.uuid)\n",
    "print(new_conversation.title)\n",
    "print(new_conversation.created_at)"
   ]
  },
  {
   "cell_type": "code",
   "execution_count": 14,
   "id": "66c1d37f",
   "metadata": {},
   "outputs": [],
   "source": [
    "from src.Backend.Conversations import ConversationLog, MessagesLog\n",
    "\n",
    "msg_logs = session.query(MessagesLog).filter(MessagesLog.msg_from == '+18045551234').first()\n"
   ]
  },
  {
   "cell_type": "code",
   "execution_count": 15,
   "id": "88af95a5",
   "metadata": {},
   "outputs": [
    {
     "name": "stdout",
     "output_type": "stream",
     "text": [
      "+18045551234\n",
      "+12016661234\n",
      "5\n"
     ]
    }
   ],
   "source": [
    "print(msg_logs.msg_from)\n",
    "print(msg_logs.msg_to)\n",
    "print(msg_logs.conv_id)"
   ]
  }
 ],
 "metadata": {
  "kernelspec": {
   "display_name": "HatchProject",
   "language": "python",
   "name": "python3"
  },
  "language_info": {
   "codemirror_mode": {
    "name": "ipython",
    "version": 3
   },
   "file_extension": ".py",
   "mimetype": "text/x-python",
   "name": "python",
   "nbconvert_exporter": "python",
   "pygments_lexer": "ipython3",
   "version": "3.11.11"
  }
 },
 "nbformat": 4,
 "nbformat_minor": 5
}
